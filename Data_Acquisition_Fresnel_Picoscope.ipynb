{
 "cells": [
  {
   "cell_type": "code",
   "execution_count": null,
   "metadata": {},
   "outputs": [],
   "source": [
    "import serial\n",
    "\n",
    "\n",
    "class Sender:\n",
    "    TERMINATOR = '\\r'.encode('UTF8')\n",
    "\n",
    "    def __init__(self, device='/dev/ttyACM0', baud=9600, timeout=1):\n",
    "        self.serial = serial.Serial(device, baud, timeout=timeout)\n",
    "       \n",
    "    def receive(self) -> str:\n",
    "        line = self.serial.read_until(self.TERMINATOR)\n",
    "        return line.decode('UTF8').strip()\n",
    "\n",
    "    def send(self, text: str) -> str:\n",
    "        line = '%s\\r\\f' % text\n",
    "        self.serial.write(line.encode('UTF8'))\n",
    "        # the line should be echoed.\n",
    "        # If it isn't, something is wrong.\n",
    "        return self.receive()\n",
    "\n",
    "    def close(self):\n",
    "        self.serial.close()"
   ]
  },
  {
   "cell_type": "code",
   "execution_count": null,
   "metadata": {},
   "outputs": [],
   "source": [
    "s=Sender(\"COM4\") #set up Pi Pico"
   ]
  },
  {
   "cell_type": "code",
   "execution_count": null,
   "metadata": {},
   "outputs": [],
   "source": [
    "s.send(\"1+1\") #check serial is working"
   ]
  },
  {
   "cell_type": "code",
   "execution_count": null,
   "metadata": {},
   "outputs": [],
   "source": [
    "s.receive() #should give back 2"
   ]
  },
  {
   "cell_type": "code",
   "execution_count": null,
   "metadata": {},
   "outputs": [],
   "source": [
    "s.send(\"initialise()\") #must be called before moving"
   ]
  },
  {
   "cell_type": "code",
   "execution_count": null,
   "metadata": {},
   "outputs": [],
   "source": [
    "s.send(\"getcurrentpos()\") #current position of the receiver in steps from the limit switch\n"
   ]
  },
  {
   "cell_type": "code",
   "execution_count": null,
   "metadata": {},
   "outputs": [],
   "source": [
    "#imports for the picoscope\n",
    "\n",
    "from __future__ import division\n",
    "from __future__ import absolute_import\n",
    "from __future__ import print_function\n",
    "from __future__ import unicode_literals\n",
    "\n",
    "import time\n",
    "from time import sleep\n",
    "from picoscope import ps2000\n",
    "from picoscope import ps2000a\n",
    "import matplotlib.pyplot as plt\n",
    "import numpy as np\n",
    "\n",
    "\n",
    "print(__doc__)"
   ]
  },
  {
   "cell_type": "code",
   "execution_count": null,
   "metadata": {},
   "outputs": [],
   "source": [
    "#set up picoscope\n",
    "\n",
    "ps = ps2000.PS2000()\n",
    "\n",
    "waveform_desired_duration = 50E-6\n",
    "obs_duration = 3 * waveform_desired_duration #range plotted\n",
    "sampling_interval = obs_duration / 4096 #sampling interval\n",
    "\n",
    "(actualSamplingInterval, nSamples, maxSamples) = \\\n",
    "    ps.setSamplingInterval(sampling_interval, obs_duration)"
   ]
  },
  {
   "cell_type": "code",
   "execution_count": null,
   "metadata": {},
   "outputs": [],
   "source": [
    "import scipy.optimize\n",
    "from scipy.optimize import curve_fit\n",
    "\n",
    "\n",
    "def sinsignalfunc(t,A,f,psi,x):\n",
    "    return A*np.sin(2*np.pi*f*t+psi)-x\n",
    "\n",
    "#fitting function\n"
   ]
  },
  {
   "cell_type": "code",
   "execution_count": null,
   "metadata": {},
   "outputs": [],
   "source": [
    "#example function to collect data for edge diffraction z'=69cm, z=30cm\n",
    "#including standard deviation of traces \n",
    "#moves 1mm every time for a total of 35cm\n",
    "\n",
    "#set up dictionary for results\n",
    "\n",
    "edge_30692={}\n",
    "edge_30692[\"position\"] = []\n",
    "edge_30692[\"channelA\"] = []\n",
    "edge_30692[\"channelB\"] = []  #channel B recevier data in this case\n",
    "\n",
    "edge_30692[\"std\"] = []\n",
    "#5cm behind screen is 30000 steps from limit, want to go 40 cm total, 397 steps is 1mm\n",
    "i=0\n",
    "while i<350:\n",
    "   \n",
    "    edge_30692[\"position\"].append(i*400)\n",
    "    \n",
    "    fullarrayA=[]\n",
    "    fullarrayB=[]\n",
    "    currentiteration=0\n",
    "    totaliterations=100    #100 traces\n",
    "    \n",
    "    while currentiteration < totaliterations:\n",
    "        ps.setChannel('A', 'DC', 10.0, 0.0, enabled=True,BWLimited=False)\n",
    "    #print(\"Chosen channel range = %d\" % channelRange)\n",
    "    \n",
    "        ps.setChannel('B', 'DC', 10.0, 0.0, enabled=True,BWLimited=False)\n",
    "    \n",
    "        ps.setSimpleTrigger('A', 1.0, 'Falling', timeout_ms=100, enabled=True) #setting a trigger on channel A, square waveform\n",
    "    \n",
    "        ps.runBlock()\n",
    "        ps.waitReady()\n",
    "        dataA = ps.getDataV('A', nSamples, returnOverflow=False)     #collecting data for both channels \n",
    "        dataB = ps.getDataV('B', nSamples, returnOverflow=False)\n",
    "        fullarrayA.append(list(dataA))\n",
    "        fullarrayB.append(list(dataB))\n",
    "        currentiteration+=1\n",
    "        \n",
    "    dataTimeAxis = np.arange(nSamples) * actualSamplingInterval\n",
    "    edge_30692[\"std\"].append(np.std(np.asarray(fullarrayB),axis=0))\n",
    "    \n",
    "    edge_30692[\"channelA\"].append(np.mean(np.asarray(fullarrayA),axis=0))\n",
    "    edge_30692[\"channelB\"].append(np.mean(np.asarray(fullarrayB),axis=0))\n",
    "    s.send(\"move(400,0)\")\n",
    "    sleep(1)\n",
    "    i+=1\n",
    "#-5cm to 30 cm, move 35cm 400=1mm = 140000 steps "
   ]
  },
  {
   "cell_type": "code",
   "execution_count": null,
   "metadata": {},
   "outputs": [],
   "source": [
    "#plotting amplitudes\n",
    "\n",
    "edge_30692amplitudes=[]\n",
    "edge_30692covariance=[]\n",
    "\n",
    "for i in range(350):\n",
    "    popt, pcov= scipy.optimize.curve_fit(sinsignalfunc,np.arange(0,3750),edge_30692[\"channelB\"][i],p0=[1,0.0016,1,0])\n",
    "    edge_30692amplitudes.append(popt[0])\n",
    "    edge_30692covariance.append(np.sqrt(pcov[0][0]))\n",
    "    \n",
    "plt.plot(np.arange(-5,30,0.1),(np.abs(np.asarray(edge_30692amplitudes))),\"r.\")"
   ]
  },
  {
   "cell_type": "code",
   "execution_count": null,
   "metadata": {},
   "outputs": [],
   "source": []
  }
 ],
 "metadata": {
  "kernelspec": {
   "display_name": "Python 3",
   "language": "python",
   "name": "python3"
  },
  "language_info": {
   "codemirror_mode": {
    "name": "ipython",
    "version": 3
   },
   "file_extension": ".py",
   "mimetype": "text/x-python",
   "name": "python",
   "nbconvert_exporter": "python",
   "pygments_lexer": "ipython3",
   "version": "3.7.3"
  }
 },
 "nbformat": 4,
 "nbformat_minor": 2
}
